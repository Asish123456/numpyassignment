{
 "cells": [
  {
   "cell_type": "markdown",
   "id": "a3058a25",
   "metadata": {},
   "source": [
    "1. What is a Python library? Why do we use Python libraries?\n",
    "\n",
    "ans=python library is a collection of modules and packages that provide pre-written and reusable code to perform specific task  like 1. code reusability  2, productivity  3, standarlization 4, performance 5, community support  6, speicalized functionaliy"
   ]
  },
  {
   "cell_type": "markdown",
   "id": "d2a7181c",
   "metadata": {},
   "source": [
    "\n",
    "2. What is the difference between Numpy array and List?\n",
    "ans= in numpy array all elements are different type  where list have different type of elements are available. \n",
    "\n",
    "2. numpy array is faster than list \n",
    "3.numpy array more memory efficient than list"
   ]
  },
  {
   "cell_type": "markdown",
   "id": "48c6ec61",
   "metadata": {},
   "source": [
    "find the shape size and dimmension of following array ?\n"
   ]
  },
  {
   "cell_type": "code",
   "execution_count": 4,
   "id": "651c0bee",
   "metadata": {},
   "outputs": [],
   "source": [
    "import numpy as np\n",
    "arr=[[1,2,3,4],[5,6,7,8],[9,10,11,12]]\n",
    "\n"
   ]
  },
  {
   "cell_type": "code",
   "execution_count": 6,
   "id": "d8db5a75",
   "metadata": {},
   "outputs": [
    {
     "data": {
      "text/plain": [
       "(3, 4)"
      ]
     },
     "execution_count": 6,
     "metadata": {},
     "output_type": "execute_result"
    }
   ],
   "source": [
    "shape_arr=np.array(arr)\n",
    "shape_arr.shape  #shape\n"
   ]
  },
  {
   "cell_type": "code",
   "execution_count": 8,
   "id": "e1e7a6b3",
   "metadata": {},
   "outputs": [
    {
     "data": {
      "text/plain": [
       "2"
      ]
     },
     "execution_count": 8,
     "metadata": {},
     "output_type": "execute_result"
    }
   ],
   "source": [
    "#dimenssion \n",
    "shape_arr.ndim"
   ]
  },
  {
   "cell_type": "code",
   "execution_count": 9,
   "id": "2c442612",
   "metadata": {},
   "outputs": [
    {
     "data": {
      "text/plain": [
       "12"
      ]
     },
     "execution_count": 9,
     "metadata": {},
     "output_type": "execute_result"
    }
   ],
   "source": [
    "#size\n",
    "shape_arr.size"
   ]
  },
  {
   "cell_type": "markdown",
   "id": "6d50f147",
   "metadata": {},
   "source": [
    "4. Write python code to access the first row of the following array?\n",
    "\n"
   ]
  },
  {
   "cell_type": "code",
   "execution_count": 10,
   "id": "391d7eb5",
   "metadata": {},
   "outputs": [
    {
     "data": {
      "text/plain": [
       "array([1, 2, 3, 4])"
      ]
     },
     "execution_count": 10,
     "metadata": {},
     "output_type": "execute_result"
    }
   ],
   "source": [
    "arr2=shape_arr\n",
    "arr2[0,:]"
   ]
  },
  {
   "cell_type": "markdown",
   "id": "30fa7baa",
   "metadata": {},
   "source": [
    "5. How do you access the element at the third row and fourth column from the given numpy array?\n",
    "\n"
   ]
  },
  {
   "cell_type": "code",
   "execution_count": 12,
   "id": "ba1dd39b",
   "metadata": {},
   "outputs": [
    {
     "data": {
      "text/plain": [
       "12"
      ]
     },
     "execution_count": 12,
     "metadata": {},
     "output_type": "execute_result"
    }
   ],
   "source": [
    "arr2[2,3]"
   ]
  },
  {
   "cell_type": "markdown",
   "id": "f2d49446",
   "metadata": {},
   "source": [
    "6. Write code to extract all odd-indexed elements from the given numpy array?\n",
    "\n"
   ]
  },
  {
   "cell_type": "code",
   "execution_count": 13,
   "id": "8efdc3a7",
   "metadata": {},
   "outputs": [
    {
     "data": {
      "text/plain": [
       "array([[ 2,  4],\n",
       "       [ 6,  8],\n",
       "       [10, 12]])"
      ]
     },
     "execution_count": 13,
     "metadata": {},
     "output_type": "execute_result"
    }
   ],
   "source": [
    "arr2[:, 1::2]"
   ]
  },
  {
   "cell_type": "markdown",
   "id": "97aed456",
   "metadata": {},
   "source": [
    "7. How can you generate a random 3x3 matrix with values between 0 and 1?\n"
   ]
  },
  {
   "cell_type": "code",
   "execution_count": 15,
   "id": "b9ed928b",
   "metadata": {},
   "outputs": [
    {
     "data": {
      "text/plain": [
       "array([[0, 0, 0],\n",
       "       [0, 0, 0],\n",
       "       [0, 0, 0]])"
      ]
     },
     "execution_count": 15,
     "metadata": {},
     "output_type": "execute_result"
    }
   ],
   "source": [
    "np.random.randint(0,1,size=(3,3))"
   ]
  },
  {
   "cell_type": "markdown",
   "id": "8205782d",
   "metadata": {},
   "source": [
    "8. Describe the difference between np.random.rand and np.random.randn?"
   ]
  },
  {
   "cell_type": "markdown",
   "id": "d23745b9",
   "metadata": {},
   "source": [
    "np.random.rand is the uifrom distribution of {0,1} and  give the respected values and np.random.randn gives the value like normal distribution using and it is also called gausian distribution "
   ]
  },
  {
   "cell_type": "markdown",
   "id": "49c233a6",
   "metadata": {},
   "source": [
    "9. Write code to increase the dimension of the following array?\n",
    "\n",
    "[[1, 2, 3, 4]\n",
    "\n",
    "[5, 6, 7, 8],\n",
    "\n",
    "[9, 10, 11, 12]]"
   ]
  },
  {
   "cell_type": "code",
   "execution_count": 18,
   "id": "22ee87fe",
   "metadata": {},
   "outputs": [
    {
     "name": "stdout",
     "output_type": "stream",
     "text": [
      "[[[ 1]\n",
      "  [ 2]\n",
      "  [ 3]\n",
      "  [ 4]]\n",
      "\n",
      " [[ 5]\n",
      "  [ 6]\n",
      "  [ 7]\n",
      "  [ 8]]\n",
      "\n",
      " [[ 9]\n",
      "  [10]\n",
      "  [11]\n",
      "  [12]]]\n"
     ]
    }
   ],
   "source": [
    "original_array = np.array([[1, 2, 3, 4], [5, 6, 7, 8], [9, 10, 11, 12]])\n",
    "\n",
    "# Increase the dimension by adding a new axis\n",
    "new_dimension_array = original_array[:, :, np.newaxis]\n",
    "print(new_dimension_array)"
   ]
  },
  {
   "cell_type": "markdown",
   "id": "dab1e57a",
   "metadata": {},
   "source": [
    "10. How to transpose the following array in NumPy"
   ]
  },
  {
   "cell_type": "code",
   "execution_count": 20,
   "id": "60a5ee65",
   "metadata": {},
   "outputs": [
    {
     "name": "stdout",
     "output_type": "stream",
     "text": [
      "[[ 1  5  9]\n",
      " [ 2  6 10]\n",
      " [ 3  7 11]\n",
      " [ 4  8 12]]\n"
     ]
    }
   ],
   "source": [
    "transposed_array = np.transpose(original_array)\n",
    "print(transposed_array)"
   ]
  },
  {
   "cell_type": "markdown",
   "id": "05f3bd8d",
   "metadata": {},
   "source": [
    "11. Consider the following matrix:\n",
    "\n",
    "Matrix A: [[1, 2, 3, 4] [5, 6, 7, 8],[9, 10, 11, 12]]\n",
    "\n",
    "Matrix B: [[1, 2, 3, 4] [5, 6, 7, 8],[9, 10, 11, 12]]"
   ]
  },
  {
   "cell_type": "code",
   "execution_count": 22,
   "id": "4d2ce1bc",
   "metadata": {},
   "outputs": [
    {
     "name": "stdout",
     "output_type": "stream",
     "text": [
      "Matrix A:\n",
      "[[ 1  2  3  4]\n",
      " [ 5  6  7  8]\n",
      " [ 9 10 11 12]]\n",
      "\n",
      "Matrix B:\n",
      "[[ 1  2  3  4]\n",
      " [ 5  6  7  8]\n",
      " [ 9 10 11 12]]\n",
      "\n",
      "Element-wise Multiplication (Index-wise):\n",
      "[[  1   4   9  16]\n",
      " [ 25  36  49  64]\n",
      " [ 81 100 121 144]]\n"
     ]
    }
   ],
   "source": [
    "#index wise multiplication\n",
    "import numpy as np\n",
    "\n",
    "# Given matrices\n",
    "matrix_A = np.array([[1, 2, 3, 4], [5, 6, 7, 8], [9, 10, 11, 12]])\n",
    "matrix_B = np.array([[1, 2, 3, 4], [5, 6, 7, 8], [9, 10, 11, 12]])\n",
    "\n",
    "# Element-wise multiplication\n",
    "result_matrix = matrix_A * matrix_B\n",
    "\n",
    "print(\"Matrix A:\")\n",
    "print(matrix_A)\n",
    "\n",
    "print(\"\\nMatrix B:\")\n",
    "print(matrix_B)\n",
    "\n",
    "print(\"\\nElement-wise Multiplication (Index-wise):\")\n",
    "print(result_matrix)\n"
   ]
  },
  {
   "cell_type": "code",
   "execution_count": 23,
   "id": "bce32773",
   "metadata": {},
   "outputs": [
    {
     "name": "stdout",
     "output_type": "stream",
     "text": [
      "Matrix A:\n",
      "[[ 1  2  3  4]\n",
      " [ 5  6  7  8]\n",
      " [ 9 10 11 12]]\n",
      "\n",
      "Matrix B:\n",
      "[[ 1  2  3]\n",
      " [ 4  5  6]\n",
      " [ 7  8  9]\n",
      " [10 11 12]]\n",
      "\n",
      "Matrix Multiplication:\n",
      "[[ 70  80  90]\n",
      " [158 184 210]\n",
      " [246 288 330]]\n"
     ]
    }
   ],
   "source": [
    "#matrix multiplication\n",
    "\n",
    "import numpy as np\n",
    "\n",
    "# Given matrices\n",
    "matrix_A = np.array([[1, 2, 3, 4], [5, 6, 7, 8], [9, 10, 11, 12]])\n",
    "matrix_B = np.array([[1, 2, 3], [4, 5, 6], [7, 8, 9], [10, 11, 12]])\n",
    "\n",
    "# Matrix multiplication using numpy.dot\n",
    "result_matrix = np.dot(matrix_A, matrix_B)\n",
    "\n",
    "# Alternatively, you can use the @ operator\n",
    "# result_matrix = matrix_A @ matrix_B\n",
    "\n",
    "print(\"Matrix A:\")\n",
    "print(matrix_A)\n",
    "\n",
    "print(\"\\nMatrix B:\")\n",
    "print(matrix_B)\n",
    "\n",
    "print(\"\\nMatrix Multiplication:\")\n",
    "print(result_matrix)\n"
   ]
  },
  {
   "cell_type": "code",
   "execution_count": 28,
   "id": "9fbf1a46",
   "metadata": {},
   "outputs": [
    {
     "name": "stdout",
     "output_type": "stream",
     "text": [
      "Matrix A:\n",
      "[[ 1  2  3  4]\n",
      " [ 5  6  7  8]\n",
      " [ 9 10 11 12]]\n",
      "\n",
      "Matrix B:\n",
      "[[ 1  2  3  4]\n",
      " [ 5  6  7  8]\n",
      " [ 9 10 11 12]]\n",
      "\n",
      "Matrix Addition:\n",
      "[[ 2  4  6  8]\n",
      " [10 12 14 16]\n",
      " [18 20 22 24]]\n"
     ]
    }
   ],
   "source": [
    "import numpy as np\n",
    "\n",
    "# Given matrices\n",
    "matrix_A = np.array([[1, 2, 3, 4], [5, 6, 7, 8], [9, 10, 11, 12]])\n",
    "matrix_B = np.array([[1, 2, 3,4], [ 5, 6,7,8], [9, 10, 11,12]])\n",
    "\n",
    "# Matrix addition using numpy.add\n",
    "result_matrix = np.add(matrix_A, matrix_B)\n",
    "\n",
    "print(\"Matrix A:\")\n",
    "print(matrix_A)\n",
    "\n",
    "print(\"\\nMatrix B:\")\n",
    "print(matrix_B)\n",
    "\n",
    "print(\"\\nMatrix Addition:\")\n",
    "print(result_matrix)\n"
   ]
  },
  {
   "cell_type": "code",
   "execution_count": 30,
   "id": "c0ea8315",
   "metadata": {},
   "outputs": [
    {
     "name": "stdout",
     "output_type": "stream",
     "text": [
      "Matrix A:\n",
      "[[ 1  2  3  4]\n",
      " [ 5  6  7  8]\n",
      " [ 9 10 11 12]]\n",
      "\n",
      "Matrix B:\n",
      "[[ 1  2  3  4]\n",
      " [ 5  6  7  8]\n",
      " [ 9 10 11 12]]\n",
      "\n",
      "Matrix substraction:\n",
      "[[0 0 0 0]\n",
      " [0 0 0 0]\n",
      " [0 0 0 0]]\n"
     ]
    }
   ],
   "source": [
    "import numpy as np\n",
    "\n",
    "# Given matrices\n",
    "matrix_A = np.array([[1, 2, 3, 4], [5, 6, 7, 8], [9, 10, 11, 12]])\n",
    "matrix_B = np.array([[1, 2, 3,4], [ 5, 6,7,8], [9, 10, 11,12]])\n",
    "\n",
    "# Matrix addition using numpy.add\n",
    "result_matrix = np.subtract(matrix_A, matrix_B)\n",
    "\n",
    "print(\"Matrix A:\")\n",
    "print(matrix_A)\n",
    "\n",
    "print(\"\\nMatrix B:\")\n",
    "print(matrix_B)\n",
    "\n",
    "print(\"\\nMatrix substraction:\")\n",
    "print(result_matrix)\n"
   ]
  },
  {
   "cell_type": "code",
   "execution_count": 31,
   "id": "a1c61882",
   "metadata": {},
   "outputs": [
    {
     "name": "stdout",
     "output_type": "stream",
     "text": [
      "Matrix A:\n",
      "[[ 1  2  3  4]\n",
      " [ 5  6  7  8]\n",
      " [ 9 10 11 12]]\n",
      "\n",
      "Matrix B:\n",
      "[[ 1  2  3  4]\n",
      " [ 5  6  7  8]\n",
      " [ 9 10 11 12]]\n",
      "\n",
      "Matrix  divide:\n",
      "[[1. 1. 1. 1.]\n",
      " [1. 1. 1. 1.]\n",
      " [1. 1. 1. 1.]]\n"
     ]
    }
   ],
   "source": [
    "#divide matrix b from a \n",
    "\n",
    "import numpy as np\n",
    "\n",
    "# Given matrices\n",
    "matrix_A = np.array([[1, 2, 3, 4], [5, 6, 7, 8], [9, 10, 11, 12]])\n",
    "matrix_B = np.array([[1, 2, 3,4], [ 5, 6,7,8], [9, 10, 11,12]])\n",
    "\n",
    "# Matrix addition using numpy.add\n",
    "result_matrix = np.divide(matrix_A, matrix_B)\n",
    "\n",
    "print(\"Matrix A:\")\n",
    "print(matrix_A)\n",
    "\n",
    "print(\"\\nMatrix B:\")\n",
    "print(matrix_B)\n",
    "\n",
    "print(\"\\nMatrix  divide:\")\n",
    "print(result_matrix)\n"
   ]
  },
  {
   "cell_type": "markdown",
   "id": "95d1b8cf",
   "metadata": {},
   "source": [
    "12. Which function in Numpy can be used to swap the byte order of an array?"
   ]
  },
  {
   "cell_type": "markdown",
   "id": "390d6fc3",
   "metadata": {},
   "source": [
    "In NumPy, the function used to swap the byte order (endianness) of an array is numpy.ndarray.byteswap. This function swaps the byte order of the array in place."
   ]
  },
  {
   "cell_type": "markdown",
   "id": "7c4528c4",
   "metadata": {},
   "source": [
    "13. What is the significance of the np.linalg.inv function?"
   ]
  },
  {
   "cell_type": "markdown",
   "id": "f54c7139",
   "metadata": {},
   "source": [
    "The np.linalg.inv function in NumPy is used to compute the multiplicative inverse of a matrix. Given a square matrix A, if there exists a matrix B such that A * B = B * A = I (where I is the identity matrix), then B is the inverse of A. In other words, the inverse of a matrix undoes the effect of the original matrix."
   ]
  },
  {
   "cell_type": "markdown",
   "id": "76253d4f",
   "metadata": {},
   "source": [
    "14. What does the np.reshape function do, and how is it used?"
   ]
  },
  {
   "cell_type": "markdown",
   "id": "6723f1b6",
   "metadata": {},
   "source": [
    "The np.reshape function in NumPy is used to give a new shape to an array without changing its data. It returns a new array with the specified shape. The elements of the original array are read in a certain order and placed into the new array."
   ]
  },
  {
   "cell_type": "markdown",
   "id": "5cf5536d",
   "metadata": {},
   "source": [
    "15. What is broadcasting in Numpy?"
   ]
  },
  {
   "cell_type": "markdown",
   "id": "6f366734",
   "metadata": {},
   "source": [
    "NumPy broadcasting is a powerful feature that allows operations between arrays of different shapes and sizes. It automatically performs element-wise operations, even if the arrays are not of the same shape, by \"broadcasting\" the smaller array to match the shape of the larger one."
   ]
  },
  {
   "cell_type": "code",
   "execution_count": null,
   "id": "6f49c9f7",
   "metadata": {},
   "outputs": [],
   "source": []
  }
 ],
 "metadata": {
  "kernelspec": {
   "display_name": "Python 3 (ipykernel)",
   "language": "python",
   "name": "python3"
  },
  "language_info": {
   "codemirror_mode": {
    "name": "ipython",
    "version": 3
   },
   "file_extension": ".py",
   "mimetype": "text/x-python",
   "name": "python",
   "nbconvert_exporter": "python",
   "pygments_lexer": "ipython3",
   "version": "3.11.3"
  }
 },
 "nbformat": 4,
 "nbformat_minor": 5
}
